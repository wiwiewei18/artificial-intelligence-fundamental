{
 "cells": [
  {
   "cell_type": "markdown",
   "metadata": {},
   "source": [
    "# Git"
   ]
  },
  {
   "cell_type": "markdown",
   "metadata": {},
   "source": [
    "## Installation and Setup"
   ]
  },
  {
   "cell_type": "markdown",
   "metadata": {},
   "source": [
    "1. Install git\n",
    "2. Setup git\n",
    "\n",
    "    ```bash\n",
    "    git config --global user.name \"Wiwie Sanjaya\"\n",
    "    \n",
    "    git config --global user.email \"wiwiewei18@gmail.com\"\n",
    "    ```\n",
    "\n",
    "3. Change initial branch name to main\n",
    "\n",
    "    ```bash\n",
    "    git config --global init.defaultBranch main\n",
    "    ```\n",
    "\n",
    "4. Check saved config\n",
    "    ```bash\n",
    "    git config --list\n",
    "    ```"
   ]
  },
  {
   "cell_type": "markdown",
   "metadata": {},
   "source": [
    "## Common used command"
   ]
  },
  {
   "cell_type": "markdown",
   "metadata": {},
   "source": [
    "```bash\n",
    "git init [repository_directory]\n",
    "\n",
    "git status\n",
    "\n",
    "git add [file_name]\n",
    "\n",
    "# undo git add\n",
    "git reset [file_name] \n",
    "\n",
    "git commit -m \"[message]\"\n",
    "\n",
    "# undo git commit\n",
    "git revert [commit_id] \n",
    "\n",
    "git push\n",
    "\n",
    "git checkout [branch_name | commit_id]\n",
    "\n",
    "git log\n",
    "\n",
    "git diff\n",
    "\n",
    "# Semantic commit message\n",
    "git commit -m \"feat: add function A\"\n",
    "git commit -m \"fix: bug in function A\"\n",
    "git commit -m \"docs: add document A\"\n",
    "\n",
    "git remote add [remote_name] [remote_url]\n",
    "\n",
    "git remote rm [remote_name]\n",
    "\n",
    "git remote -v\n",
    "\n",
    "git checkout -b [branch_name]\n",
    "\n",
    "git merge [branch_name]\n",
    "\n",
    "git pull\n",
    "\n",
    "git push -u [remote_name] [branch_name]\n",
    "\n",
    "git clone\n",
    "```"
   ]
  }
 ],
 "metadata": {
  "language_info": {
   "name": "python"
  }
 },
 "nbformat": 4,
 "nbformat_minor": 2
}
