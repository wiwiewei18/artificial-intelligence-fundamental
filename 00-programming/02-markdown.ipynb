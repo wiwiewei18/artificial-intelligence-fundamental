{
 "cells": [
  {
   "cell_type": "markdown",
   "metadata": {},
   "source": [
    "# Markdown"
   ]
  },
  {
   "cell_type": "markdown",
   "metadata": {},
   "source": [
    "## Heading"
   ]
  },
  {
   "cell_type": "markdown",
   "metadata": {},
   "source": [
    "```markdown\n",
    "# Heading 1\n",
    "## Heading 2\n",
    "### Heading 3\n",
    "#### Heading 4\n",
    "##### Heading 5\n",
    "###### Heading 6\n",
    "```"
   ]
  },
  {
   "cell_type": "markdown",
   "metadata": {},
   "source": [
    "## Text Formatting"
   ]
  },
  {
   "cell_type": "markdown",
   "metadata": {},
   "source": [
    "```markdown\n",
    "*Italic* \n",
    "**Bold** \n",
    "***Italic And Bold*** \n",
    "\n",
    "_Italic_\n",
    "__Bold__\n",
    "___Italic And Bold___\n",
    "```"
   ]
  },
  {
   "cell_type": "markdown",
   "metadata": {},
   "source": [
    "## List"
   ]
  },
  {
   "cell_type": "markdown",
   "metadata": {},
   "source": [
    "```markdown\n",
    "1. Ordered List 1\n",
    "2. Ordered List 2\n",
    "\n",
    "- Unordered List 1\n",
    "- Unordered List 2\n",
    "```"
   ]
  },
  {
   "cell_type": "markdown",
   "metadata": {},
   "source": [
    "## Link"
   ]
  },
  {
   "cell_type": "markdown",
   "metadata": {},
   "source": [
    "```markdown\n",
    "[Link](www.google.com)\n",
    "```"
   ]
  },
  {
   "cell_type": "markdown",
   "metadata": {},
   "source": [
    "## Image"
   ]
  },
  {
   "cell_type": "markdown",
   "metadata": {},
   "source": [
    "```markdown\n",
    "![Taekwondo Image](https://lh6.googleusercontent.com/proxy/rJRlYy-erVaC52L7OLN8Scq6nV3jrQL9vY5MHqkSs8HK17G5pvxxyYT71o83qPnB3CHroFYXhvR1-hYFytH22Orzd3dmy7gzIITiGP9kYtwRUJCJwzKHk92OdemDr0KhoA)\n",
    "```"
   ]
  },
  {
   "cell_type": "markdown",
   "metadata": {},
   "source": [
    "## Table"
   ]
  },
  {
   "cell_type": "markdown",
   "metadata": {},
   "source": [
    "```markdown\n",
    "| Table Head 1 | Table Head 2 | Table Head 3 |\n",
    "| ------------ | ------------ | ------------ |\n",
    "| Table Data 1 | Table Data 2 | Table Data 3 |\n",
    "| Table Data 4 | Table Data 5 | Table Data 6 |\n",
    "```"
   ]
  },
  {
   "cell_type": "markdown",
   "metadata": {},
   "source": [
    "## Code"
   ]
  },
  {
   "cell_type": "markdown",
   "metadata": {},
   "source": [
    "```python\n",
    "def hello_world():\n",
    "  print(\"Hello World\")\n",
    "\n",
    "hello_world()\n",
    "```"
   ]
  }
 ],
 "metadata": {
  "language_info": {
   "name": "python"
  }
 },
 "nbformat": 4,
 "nbformat_minor": 2
}
