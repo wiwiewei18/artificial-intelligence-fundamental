{
 "cells": [
  {
   "cell_type": "markdown",
   "metadata": {},
   "source": [
    "# Python"
   ]
  },
  {
   "cell_type": "markdown",
   "metadata": {},
   "source": [
    "## Basic"
   ]
  },
  {
   "cell_type": "markdown",
   "metadata": {},
   "source": [
    "### Comment"
   ]
  },
  {
   "cell_type": "code",
   "execution_count": 7,
   "metadata": {},
   "outputs": [
    {
     "data": {
      "text/plain": [
       "'\\nmultiline\\ncomment\\n'"
      ]
     },
     "execution_count": 7,
     "metadata": {},
     "output_type": "execute_result"
    }
   ],
   "source": [
    "# comment\n",
    "\n",
    "'''\n",
    "multiline\n",
    "comment\n",
    "'''"
   ]
  },
  {
   "cell_type": "markdown",
   "metadata": {},
   "source": [
    "### Basic Datatype"
   ]
  },
  {
   "cell_type": "code",
   "execution_count": 8,
   "metadata": {},
   "outputs": [
    {
     "name": "stdout",
     "output_type": "stream",
     "text": [
      "<class 'int'>\n",
      "<class 'str'>\n",
      "<class 'bool'>\n"
     ]
    }
   ],
   "source": [
    "number = 1\n",
    "string = 'string'\n",
    "boolean = True\n",
    "\n",
    "print(type(number))\n",
    "print(type(string))\n",
    "print(type(boolean))"
   ]
  },
  {
   "cell_type": "markdown",
   "metadata": {},
   "source": [
    "### Mathematical Operation"
   ]
  },
  {
   "cell_type": "code",
   "execution_count": 9,
   "metadata": {},
   "outputs": [
    {
     "name": "stdout",
     "output_type": "stream",
     "text": [
      "3\n",
      "-1\n",
      "2\n",
      "0.5\n",
      "1\n",
      "1\n",
      "0\n"
     ]
    }
   ],
   "source": [
    "addition = 1 + 2\n",
    "subtraction = 1 - 2\n",
    "multiplication = 1 * 2\n",
    "division = 1 / 2\n",
    "exponent = 1 ** 2\n",
    "modulus = 1 % 2\n",
    "floor_division = 1 // 2\n",
    "\n",
    "print(addition)\n",
    "print(subtraction)\n",
    "print(multiplication)\n",
    "print(division)\n",
    "print(exponent)\n",
    "print(modulus)\n",
    "print(floor_division)"
   ]
  },
  {
   "cell_type": "markdown",
   "metadata": {},
   "source": [
    "### Comparison Operation"
   ]
  },
  {
   "cell_type": "code",
   "execution_count": 10,
   "metadata": {},
   "outputs": [
    {
     "name": "stdout",
     "output_type": "stream",
     "text": [
      "False\n",
      "True\n",
      "False\n",
      "True\n",
      "False\n",
      "True\n"
     ]
    }
   ],
   "source": [
    "equal = 1 == 2\n",
    "not_equal = 1 != 2\n",
    "greater_than = 1 > 2\n",
    "less_than = 1 < 2\n",
    "greater_than_equal = 1 >= 2\n",
    "less_than_equal = 1 <= 2\n",
    "\n",
    "print(equal)\n",
    "print(not_equal)\n",
    "print(greater_than)\n",
    "print(less_than)\n",
    "print(greater_than_equal)\n",
    "print(less_than_equal)"
   ]
  },
  {
   "cell_type": "markdown",
   "metadata": {},
   "source": [
    "### Logical Operation"
   ]
  },
  {
   "cell_type": "code",
   "execution_count": 11,
   "metadata": {},
   "outputs": [
    {
     "name": "stdout",
     "output_type": "stream",
     "text": [
      "False\n",
      "True\n",
      "False\n"
     ]
    }
   ],
   "source": [
    "and_operator = True and False\n",
    "or_operator = True or False\n",
    "not_operator = not True\n",
    "\n",
    "print(and_operator)\n",
    "print(or_operator)\n",
    "print(not_operator)"
   ]
  },
  {
   "cell_type": "markdown",
   "metadata": {},
   "source": [
    "### Control Structure"
   ]
  },
  {
   "cell_type": "code",
   "execution_count": 12,
   "metadata": {},
   "outputs": [
    {
     "name": "stdout",
     "output_type": "stream",
     "text": [
      "negative\n",
      "neutral\n",
      "positive\n",
      "odd\n",
      "even\n"
     ]
    }
   ],
   "source": [
    "def is_positive_negative_or_neutral(number):\n",
    "    if number > 0:\n",
    "        return 'positive'\n",
    "    elif number < 0:\n",
    "        return 'negative'\n",
    "    else:\n",
    "        return 'neutral'\n",
    "    \n",
    "def is_odd_or_even(number):\n",
    "    return 'odd' if number % 2 == 1 else 'even'\n",
    "\n",
    "print(is_positive_negative_or_neutral(-1))\n",
    "print(is_positive_negative_or_neutral(0))\n",
    "print(is_positive_negative_or_neutral(1))\n",
    "print(is_odd_or_even(1))\n",
    "print(is_odd_or_even(2))"
   ]
  },
  {
   "cell_type": "code",
   "execution_count": 13,
   "metadata": {},
   "outputs": [
    {
     "name": "stdout",
     "output_type": "stream",
     "text": [
      "0\n",
      "1\n",
      "2\n",
      "3\n",
      "4\n",
      "5\n",
      "6\n",
      "7\n",
      "8\n",
      "9\n",
      "0\n",
      "1\n",
      "2\n",
      "3\n",
      "4\n",
      "5\n",
      "6\n",
      "7\n",
      "8\n",
      "9\n"
     ]
    }
   ],
   "source": [
    "for iterator in range(10):\n",
    "    print(iterator)\n",
    "    \n",
    "iterator = 0\n",
    "while iterator < 10:\n",
    "    print(iterator)\n",
    "    iterator += 1"
   ]
  },
  {
   "cell_type": "code",
   "execution_count": 14,
   "metadata": {},
   "outputs": [
    {
     "name": "stdout",
     "output_type": "stream",
     "text": [
      "[0, 2, 4, 6, 8]\n"
     ]
    }
   ],
   "source": [
    "list_comprehension = [iterator for iterator in range(10) if iterator % 2 == 0]\n",
    "\n",
    "print(list_comprehension)"
   ]
  },
  {
   "cell_type": "markdown",
   "metadata": {},
   "source": [
    "### Function"
   ]
  },
  {
   "cell_type": "code",
   "execution_count": 15,
   "metadata": {},
   "outputs": [
    {
     "name": "stdout",
     "output_type": "stream",
     "text": [
      "3\n"
     ]
    }
   ],
   "source": [
    "def add(number1, number2):\n",
    "    return number1 + number2\n",
    "\n",
    "print(add(1, 2))"
   ]
  },
  {
   "cell_type": "code",
   "execution_count": 16,
   "metadata": {},
   "outputs": [
    {
     "name": "stdout",
     "output_type": "stream",
     "text": [
      "3\n"
     ]
    }
   ],
   "source": [
    "lambda_function_add = lambda number1, number2: number1 + number2\n",
    "\n",
    "print(lambda_function_add(1, 2))"
   ]
  },
  {
   "cell_type": "code",
   "execution_count": 17,
   "metadata": {},
   "outputs": [
    {
     "name": "stdout",
     "output_type": "stream",
     "text": [
      "[10, 9, 8, 7, 6, 5, 4, 3, 2, 1]\n",
      "[2, 4, 6, 8, 10, 12, 14, 16, 18, 20]\n",
      "[2, 4, 6, 8, 10]\n",
      "[(1, '1'), (2, '2'), (3, '3'), (4, '4'), (5, '5'), (6, '6'), (7, '7'), (8, '8'), (9, '9'), (10, '10')]\n"
     ]
    }
   ],
   "source": [
    "numbers = [1, 2, 3, 4, 5, 6, 7, 8, 9, 10]\n",
    "string_numbers = [str(number) for number in numbers]\n",
    "\n",
    "desc_numbers = sorted(numbers, reverse=True)\n",
    "print(desc_numbers)\n",
    "\n",
    "doubled_numbers = list(map(lambda number: number * 2, numbers))\n",
    "print(doubled_numbers)\n",
    "\n",
    "even_numbers = list(filter(lambda number: number % 2 == 0, numbers))\n",
    "print(even_numbers)\n",
    "\n",
    "zip_numbers = list(zip(numbers, string_numbers))\n",
    "print(zip_numbers)"
   ]
  },
  {
   "cell_type": "markdown",
   "metadata": {},
   "source": [
    "## Data Structure"
   ]
  },
  {
   "cell_type": "markdown",
   "metadata": {},
   "source": [
    "### List"
   ]
  },
  {
   "cell_type": "code",
   "execution_count": 18,
   "metadata": {},
   "outputs": [
    {
     "name": "stdout",
     "output_type": "stream",
     "text": [
      "<class 'list'>\n",
      "['apple', 'banana', 'cherry']\n",
      "['apple', 'banana']\n",
      "['apple', 'banana', 'coconut']\n",
      "banana\n",
      "coconut\n",
      "apple\n",
      "banana\n",
      "coconut\n"
     ]
    }
   ],
   "source": [
    "list = [\"apple\", \"banana\", \"cherry\"]\n",
    "print(type(list))\n",
    "print(list)\n",
    "\n",
    "list.remove(\"cherry\")\n",
    "print(list)\n",
    "\n",
    "list.append(\"coconut\")\n",
    "print(list)\n",
    "\n",
    "print(list[1])\n",
    "print(list[-1])\n",
    "\n",
    "for x in list:\n",
    "    print(x)"
   ]
  },
  {
   "cell_type": "markdown",
   "metadata": {},
   "source": [
    "### Tuple"
   ]
  },
  {
   "cell_type": "code",
   "execution_count": 20,
   "metadata": {},
   "outputs": [
    {
     "name": "stdout",
     "output_type": "stream",
     "text": [
      "<class 'tuple'>\n",
      "('apple', 'banana', 'cherry')\n",
      "{('United States', 'California'): 'Sacramento', ('France', 'Île-de-France'): 'Paris'}\n"
     ]
    }
   ],
   "source": [
    "tuple = (\"apple\", \"banana\", \"cherry\")\n",
    "print(type(tuple))\n",
    "print(tuple)\n",
    "\n",
    "# tuple.remove(\"cherry\") <- tuple immutable\n",
    "\n",
    "# tuple can be used as key in dictionary\n",
    "capital_cities = {(\"United States\", \"California\"): \"Sacramento\", (\"France\", \"Île-de-France\"): \"Paris\"}\n",
    "print(capital_cities)"
   ]
  },
  {
   "cell_type": "markdown",
   "metadata": {},
   "source": [
    "### Sets"
   ]
  },
  {
   "cell_type": "code",
   "execution_count": 21,
   "metadata": {},
   "outputs": [
    {
     "name": "stdout",
     "output_type": "stream",
     "text": [
      "<class 'set'>\n",
      "{'apple', 'banana', 'cherry'}\n",
      "{'apple', 'kiwi', 'cherry', 'mango', 'melon', 'orange', 'banana'}\n",
      "set()\n"
     ]
    }
   ],
   "source": [
    "first_sets = {\"apple\", \"banana\", \"cherry\"}\n",
    "second_sets = {\"apple\", \"banana\", \"cherry\", \"orange\", \"kiwi\", \"melon\", \"mango\"}\n",
    "print(type(first_sets))\n",
    "\n",
    "intersection_sets = first_sets.intersection(second_sets)\n",
    "print(intersection_sets)\n",
    "\n",
    "union_sets = first_sets.union(second_sets)\n",
    "print(union_sets)\n",
    "\n",
    "difference_sets = first_sets.difference(second_sets)\n",
    "print(difference_sets)"
   ]
  },
  {
   "cell_type": "markdown",
   "metadata": {},
   "source": [
    "### Dictionary"
   ]
  },
  {
   "cell_type": "code",
   "execution_count": 22,
   "metadata": {},
   "outputs": [
    {
     "name": "stdout",
     "output_type": "stream",
     "text": [
      "<class 'dict'>\n",
      "{'name': 'John', 'age': 36, 'country': 'Norway'}\n",
      "{'name': 'John', 'age': 40, 'country': 'Norway'}\n",
      "name John\n",
      "age 40\n",
      "country Norway\n",
      "name\n",
      "age\n",
      "country\n",
      "John\n",
      "40\n",
      "Norway\n"
     ]
    }
   ],
   "source": [
    "dictionary = {\"name\": \"John\", \"age\": 36, \"country\": \"Norway\"}\n",
    "print(type(dictionary))\n",
    "print(dictionary)\n",
    "\n",
    "dictionary[\"age\"] = 40\n",
    "print(dictionary)\n",
    "\n",
    "for key, value in dictionary.items():\n",
    "    print(key, value)\n",
    "    \n",
    "for key in dictionary.keys():\n",
    "    print(key)\n",
    "    \n",
    "for value in dictionary.values():\n",
    "    print(value)"
   ]
  },
  {
   "cell_type": "markdown",
   "metadata": {},
   "source": [
    "## Object Oriented Programming"
   ]
  },
  {
   "cell_type": "markdown",
   "metadata": {},
   "source": [
    "### Basic"
   ]
  },
  {
   "cell_type": "code",
   "execution_count": 23,
   "metadata": {},
   "outputs": [
    {
     "name": "stdout",
     "output_type": "stream",
     "text": [
      "15\n",
      "5\n",
      "50\n",
      "2.0\n"
     ]
    }
   ],
   "source": [
    "class Calculator:\n",
    "    def __init__(self, num1, num2):\n",
    "        self.num1 = num1\n",
    "        self.num2 = num2\n",
    "\n",
    "    def add(self):\n",
    "        return self.num1 + self.num2\n",
    "    \n",
    "    def subtract(self):\n",
    "        return self.num1 - self.num2\n",
    "    \n",
    "    def multiply(self):\n",
    "        return self.num1 * self.num2\n",
    "    \n",
    "    def divide(self):\n",
    "        return self.num1 / self.num2\n",
    "    \n",
    "calculator = Calculator(10, 5)\n",
    "print(calculator.add())\n",
    "print(calculator.subtract())\n",
    "print(calculator.multiply())\n",
    "print(calculator.divide())"
   ]
  },
  {
   "cell_type": "markdown",
   "metadata": {},
   "source": [
    "### Inheritance"
   ]
  },
  {
   "cell_type": "code",
   "execution_count": 25,
   "metadata": {},
   "outputs": [
    {
     "name": "stdout",
     "output_type": "stream",
     "text": [
      "15\n",
      "5\n",
      "50\n",
      "2.0\n",
      "100000\n",
      "1.5848931924611136\n"
     ]
    }
   ],
   "source": [
    "class ScientificCalculator(Calculator):\n",
    "    def __init__(self, num1, num2):\n",
    "        super().__init__(num1, num2)\n",
    "    \n",
    "    def power(self):\n",
    "        return self.num1 ** self.num2\n",
    "    \n",
    "    def square_root(self):\n",
    "        return self.num1 ** (1 / self.num2)\n",
    "    \n",
    "scientific_calculator = ScientificCalculator(10, 5)\n",
    "print(scientific_calculator.add())\n",
    "print(scientific_calculator.subtract())\n",
    "print(scientific_calculator.multiply())\n",
    "print(scientific_calculator.divide())\n",
    "print(scientific_calculator.power())\n",
    "print(scientific_calculator.square_root())"
   ]
  },
  {
   "cell_type": "markdown",
   "metadata": {},
   "source": [
    "## Module"
   ]
  },
  {
   "cell_type": "markdown",
   "metadata": {},
   "source": [
    "### Custom Module"
   ]
  },
  {
   "cell_type": "code",
   "execution_count": 1,
   "metadata": {},
   "outputs": [
    {
     "name": "stdout",
     "output_type": "stream",
     "text": [
      "[2, 4, 6, 8, 10]\n"
     ]
    }
   ],
   "source": [
    "from utils import array_utils\n",
    "\n",
    "doubled_array = array_utils.double_numbers([1, 2, 3, 4, 5])\n",
    "print(doubled_array)"
   ]
  },
  {
   "cell_type": "markdown",
   "metadata": {},
   "source": [
    "### Third-party Module"
   ]
  },
  {
   "cell_type": "markdown",
   "metadata": {},
   "source": [
    "```bash\n",
    "pip install module_1 module_2\n",
    "\n",
    "pip freeze requirements.txt\n",
    "\n",
    "pip install -r requirement.txt\n",
    "```"
   ]
  }
 ],
 "metadata": {
  "kernelspec": {
   "display_name": "ruang-guru-playground",
   "language": "python",
   "name": "python3"
  },
  "language_info": {
   "codemirror_mode": {
    "name": "ipython",
    "version": 3
   },
   "file_extension": ".py",
   "mimetype": "text/x-python",
   "name": "python",
   "nbconvert_exporter": "python",
   "pygments_lexer": "ipython3",
   "version": "3.12.4"
  }
 },
 "nbformat": 4,
 "nbformat_minor": 2
}
